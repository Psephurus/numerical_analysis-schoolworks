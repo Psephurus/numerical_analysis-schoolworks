{
 "cells": [
  {
   "cell_type": "markdown",
   "id": "4d48e4b8-7edc-4611-9d4a-2067b57af1d7",
   "metadata": {},
   "source": [
    "# 0.1 Computer Problems\n",
    "\n",
    "1. \n",
    "    Use the function `nest` to evaluate $ P(x) = 1 + x + ··· + x^{50} $ at $x = 1.00001$. (Use the \n",
    "Matlab `ones` command to save typing.) Find the error of the computation by comparing wit \n",
    "the equivalent expression $Q(x) = (x^{51} − 1)/(x −  1)$."
   ]
  },
  {
   "cell_type": "code",
   "execution_count": 1,
   "id": "2cc20ad1-4812-4e37-bb9b-cf219add0efe",
   "metadata": {},
   "outputs": [],
   "source": [
    "import numpy as np\n",
    "from nest import nest"
   ]
  },
  {
   "cell_type": "code",
   "execution_count": 2,
   "id": "47d6cdf0-dafa-490f-b34d-f8f140c2df2d",
   "metadata": {},
   "outputs": [
    {
     "name": "stdout",
     "output_type": "stream",
     "text": [
      "P(x) = 51.01275208274999\n",
      "Q(x) = 51.01275208274523\n",
      "error = 4.76e-12\n"
     ]
    }
   ],
   "source": [
    "x = 1.00001\n",
    "\n",
    "coeff_P = np.ones(51)\n",
    "P = nest(50, coeff_P, x)\n",
    "Q = (x**51 - 1) / (x - 1)\n",
    "\n",
    "print(f\"P(x) = {P}\")\n",
    "print(f\"Q(x) = {Q}\")\n",
    "print(f\"error = {P-Q :.2e}\")"
   ]
  },
  {
   "cell_type": "markdown",
   "id": "7671b0ec-3b39-4fd7-b900-d1542a929d3c",
   "metadata": {},
   "source": [
    "2.\n",
    "    Use `nest.m` to evaluate $ P(x) = 1 − x + x^2 − x^3 + ··· + x^{98} − x^{99} $ at $x = 1.00001$. Find a\n",
    "simpler, equivalent expression, and use it to estimate the error of the nested multiplication."
   ]
  },
  {
   "cell_type": "markdown",
   "id": "c16c5436-d7ea-4fdf-b0bd-3cb567061e52",
   "metadata": {},
   "source": [
    "$Q(x) = \\frac{1 - x^{100}}{1 + x}$"
   ]
  },
  {
   "cell_type": "code",
   "execution_count": 3,
   "id": "62ecbb27-34e6-461c-b336-8e114af43881",
   "metadata": {},
   "outputs": [
    {
     "name": "stdout",
     "output_type": "stream",
     "text": [
      "P(x) = -0.025012253461485834\n",
      "Q(x) = -0.0005002450796474608\n",
      "error = -2.45e-02\n"
     ]
    }
   ],
   "source": [
    "coeff_P = np.repeat([1, -1], 50)\n",
    "P = nest(99, coeff_P, x)\n",
    "Q = (1 - x**100) / (1 + x)\n",
    "\n",
    "print(f\"P(x) = {P}\")\n",
    "print(f\"Q(x) = {Q}\")\n",
    "print(f\"error = {P-Q :.2e}\")"
   ]
  }
 ],
 "metadata": {
  "kernelspec": {
   "display_name": "Python 3 (ipykernel)",
   "language": "python",
   "name": "python3"
  },
  "language_info": {
   "codemirror_mode": {
    "name": "ipython",
    "version": 3
   },
   "file_extension": ".py",
   "mimetype": "text/x-python",
   "name": "python",
   "nbconvert_exporter": "python",
   "pygments_lexer": "ipython3",
   "version": "3.11.7"
  }
 },
 "nbformat": 4,
 "nbformat_minor": 5
}
