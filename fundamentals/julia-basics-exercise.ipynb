{
 "cells": [
  {
   "cell_type": "markdown",
   "metadata": {},
   "source": [
    "**Exercise 1.2-1**\n",
    "\n",
    "In Julia you can compute the factorial of a positive integer $n$ by the built-in function `factorial(n)`. Write your own version of this function, called `factorial2`, using a for loop. Use the `@time` function to compare the execution time of your version and the built-in version of the factorial function."
   ]
  },
  {
   "cell_type": "code",
   "execution_count": 1,
   "metadata": {},
   "outputs": [
    {
     "name": "stdout",
     "output_type": "stream",
     "text": [
      "  0.000004 seconds\n"
     ]
    },
    {
     "data": {
      "text/plain": [
       "2432902008176640000"
      ]
     },
     "metadata": {},
     "output_type": "display_data"
    }
   ],
   "source": [
    "@time factorial(20)"
   ]
  },
  {
   "cell_type": "code",
   "execution_count": 2,
   "metadata": {},
   "outputs": [
    {
     "data": {
      "text/plain": [
       "factorial2 (generic function with 1 method)"
      ]
     },
     "metadata": {},
     "output_type": "display_data"
    }
   ],
   "source": [
    "function factorial2(n)\n",
    "    result = 1\n",
    "    for i in 1:n\n",
    "        result *= i\n",
    "    end\n",
    "    return result\n",
    "end"
   ]
  },
  {
   "cell_type": "code",
   "execution_count": 3,
   "metadata": {},
   "outputs": [
    {
     "name": "stdout",
     "output_type": "stream",
     "text": [
      "  0.000001 seconds\n"
     ]
    },
    {
     "data": {
      "text/plain": [
       "2432902008176640000"
      ]
     },
     "metadata": {},
     "output_type": "display_data"
    }
   ],
   "source": [
    "@time factorial2(20)"
   ]
  },
  {
   "cell_type": "markdown",
   "metadata": {},
   "source": [
    "**Exercise 1.2-2**\n",
    "\n",
    "Write a Julia code to estimate the value of $π$ using the following procedure: Place a circle of diameter one in the unit square. Generate 10,000 pairs of random numbers $(u, v)$ from the unit square. Count the number of pairs $(u, v)$ that fall into the circle, call this number $n$. Then $\\frac{n}{10000}$ is approximately the area of the circle. (This approach is known as the Monte Carlo method.)"
   ]
  },
  {
   "cell_type": "code",
   "execution_count": 4,
   "metadata": {},
   "outputs": [
    {
     "name": "stdout",
     "output_type": "stream",
     "text": [
      "3.124\n"
     ]
    }
   ],
   "source": [
    "n = 0\n",
    "for _ in 1:1e4\n",
    "    u, v = rand(), rand()\n",
    "    if u^2 + v^2 < 1\n",
    "        n += 1\n",
    "    end\n",
    "end\n",
    "\n",
    "println(4 * n / 1e4)"
   ]
  },
  {
   "cell_type": "markdown",
   "metadata": {},
   "source": [
    "**Exercise 1.2-3**\n",
    "\n",
    "Consider the following function\n",
    "\n",
    "$$ f(x,n) = \\sum\\limits_{i=1}^{n} \\prod\\limits_{j=1}^{i} x^{n-j+1} $$\n",
    "\n",
    "a) Compute $f(2, 3)$ by hand.  \n",
    "b) Write a Julia code that computes $f$. Verify $f(2, 3)$ matches your answer above.  "
   ]
  },
  {
   "cell_type": "code",
   "execution_count": 5,
   "metadata": {},
   "outputs": [
    {
     "name": "stdout",
     "output_type": "stream",
     "text": [
      "104.0\n"
     ]
    }
   ],
   "source": [
    "function f(x, n)\n",
    "    result = 0.0\n",
    "    for i in 1:n\n",
    "        product = 1.0\n",
    "        for j in 1:i\n",
    "            product *= x^(n-j+1)\n",
    "        end\n",
    "        result += product\n",
    "    end\n",
    "    return result\n",
    "end\n",
    "\n",
    "x = 2\n",
    "n = 3\n",
    "println(f(x, n))"
   ]
  }
 ],
 "metadata": {
  "kernelspec": {
   "display_name": "Julia 1.10.0",
   "language": "julia",
   "name": "julia-1.10"
  },
  "language_info": {
   "file_extension": ".jl",
   "mimetype": "application/julia",
   "name": "julia",
   "version": "1.10.0"
  }
 },
 "nbformat": 4,
 "nbformat_minor": 2
}
